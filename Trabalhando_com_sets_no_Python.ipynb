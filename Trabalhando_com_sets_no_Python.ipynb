{
  "nbformat": 4,
  "nbformat_minor": 0,
  "metadata": {
    "colab": {
      "provenance": [],
      "include_colab_link": true
    },
    "kernelspec": {
      "name": "python3",
      "display_name": "Python 3"
    },
    "language_info": {
      "name": "python"
    }
  },
  "cells": [
    {
      "cell_type": "markdown",
      "metadata": {
        "id": "view-in-github",
        "colab_type": "text"
      },
      "source": [
        "<a href=\"https://colab.research.google.com/github/renatamontanhana/Treinando_python_3/blob/main/Trabalhando_com_sets_no_Python.ipynb\" target=\"_parent\"><img src=\"https://colab.research.google.com/assets/colab-badge.svg\" alt=\"Open In Colab\"/></a>"
      ]
    },
    {
      "cell_type": "markdown",
      "source": [
        "# **Trabalhando com Sets no Python**"
      ],
      "metadata": {
        "id": "a_0iJT3mqcck"
      }
    },
    {
      "cell_type": "markdown",
      "source": [
        "## **Criação dos sets**"
      ],
      "metadata": {
        "id": "hwdXSll0wgSW"
      }
    },
    {
      "cell_type": "markdown",
      "source": [
        "### **Utilizando as chaves `{ }`:**\n",
        "\n",
        "\n"
      ],
      "metadata": {
        "id": "yfaf8Gn6jALR"
      }
    },
    {
      "cell_type": "code",
      "source": [
        "carros = {'Jetta Variant', 'Passat', 'Crossfox', 'Dodge Jorney'}\n",
        "\n",
        "print(carros)"
      ],
      "metadata": {
        "id": "FK3qZ08ckgXK",
        "colab": {
          "base_uri": "https://localhost:8080/"
        },
        "outputId": "a44caf40-94c5-441a-e7c8-111a198ef229"
      },
      "execution_count": 7,
      "outputs": [
        {
          "output_type": "stream",
          "name": "stdout",
          "text": [
            "{'Jetta Variant', 'Dodge Jorney', 'Crossfox', 'Passat'}\n"
          ]
        }
      ]
    },
    {
      "cell_type": "code",
      "source": [
        "# Sets com elementos diferentes\n",
        "\n",
        "elementos_diferentes = {2017, \"Onix\", 37123.04, True}\n",
        "print(elementos_diferentes)"
      ],
      "metadata": {
        "colab": {
          "base_uri": "https://localhost:8080/"
        },
        "id": "6A1qeFDQEKuM",
        "outputId": "2d12bee6-0385-43d9-ec8e-2647d736cb3c"
      },
      "execution_count": 8,
      "outputs": [
        {
          "output_type": "stream",
          "name": "stdout",
          "text": [
            "{2017, 'Onix', 37123.04, True}\n"
          ]
        }
      ]
    },
    {
      "cell_type": "code",
      "source": [
        "carros[0]"
      ],
      "metadata": {
        "colab": {
          "base_uri": "https://localhost:8080/",
          "height": 166
        },
        "id": "LSffwZiinhIP",
        "outputId": "b8e634e1-f339-43e4-99d4-4b6a2e897252"
      },
      "execution_count": 9,
      "outputs": [
        {
          "output_type": "error",
          "ename": "TypeError",
          "evalue": "ignored",
          "traceback": [
            "\u001b[0;31m---------------------------------------------------------------------------\u001b[0m",
            "\u001b[0;31mTypeError\u001b[0m                                 Traceback (most recent call last)",
            "\u001b[0;32m<ipython-input-9-196d22ee0193>\u001b[0m in \u001b[0;36m<cell line: 1>\u001b[0;34m()\u001b[0m\n\u001b[0;32m----> 1\u001b[0;31m \u001b[0mcarros\u001b[0m\u001b[0;34m[\u001b[0m\u001b[0;36m0\u001b[0m\u001b[0;34m]\u001b[0m\u001b[0;34m\u001b[0m\u001b[0;34m\u001b[0m\u001b[0m\n\u001b[0m",
            "\u001b[0;31mTypeError\u001b[0m: 'set' object is not subscriptable"
          ]
        }
      ]
    },
    {
      "cell_type": "code",
      "source": [
        "for i in carros:\n",
        "  print(i)"
      ],
      "metadata": {
        "id": "dcccTfDPa_bH",
        "colab": {
          "base_uri": "https://localhost:8080/"
        },
        "outputId": "bd906cac-ddf0-4469-cec6-a0fd74f2aba9"
      },
      "execution_count": 24,
      "outputs": [
        {
          "output_type": "stream",
          "name": "stdout",
          "text": [
            "Jetta Variant\n",
            "Dodge Jorney\n",
            "Crossfox\n",
            "Passat\n"
          ]
        }
      ]
    },
    {
      "cell_type": "markdown",
      "source": [
        "### **Utilizando listas e a função `set()`**"
      ],
      "metadata": {
        "id": "A7YsVhE6jHxL"
      }
    },
    {
      "cell_type": "code",
      "source": [
        "lista_escolas = ['Data Science', 'Programação', 'Front-end',\n",
        "                 'Mobile', 'DevOps', 'UX & Design', 'Inovação e Gestão']"
      ],
      "metadata": {
        "id": "SPF6Lemvr155"
      },
      "execution_count": 25,
      "outputs": []
    },
    {
      "cell_type": "code",
      "source": [
        "escolas_set = set(lista_escolas)\n",
        "\n",
        "print(escolas_set)"
      ],
      "metadata": {
        "colab": {
          "base_uri": "https://localhost:8080/"
        },
        "id": "z4XSX7EUQZTk",
        "outputId": "6ac6051f-4b5c-424e-f236-e360529805cc"
      },
      "execution_count": 26,
      "outputs": [
        {
          "output_type": "stream",
          "name": "stdout",
          "text": [
            "{'DevOps', 'Inovação e Gestão', 'Front-end', 'Mobile', 'Data Science', 'Programação', 'UX & Design'}\n"
          ]
        }
      ]
    },
    {
      "cell_type": "markdown",
      "source": [
        "### **Trabalhando com elementos repetidos:**"
      ],
      "metadata": {
        "id": "L65NhBb1jawr"
      }
    },
    {
      "cell_type": "code",
      "source": [
        "lista_carros = ['Jetta Variant', 'Passat', 'Crossfox', 'Passat', 'Crossfox',\n",
        "                'Jetta Variant', 'Dodge Journey']\n",
        "nova_lista = set(lista_carros)"
      ],
      "metadata": {
        "id": "VzHw4PPKr1-O"
      },
      "execution_count": 27,
      "outputs": []
    },
    {
      "cell_type": "code",
      "source": [
        "# Utilizando a função len() para verificar a quantidade de elementos\n",
        "print(len(lista_carros))"
      ],
      "metadata": {
        "colab": {
          "base_uri": "https://localhost:8080/"
        },
        "id": "LZAOxogMd8qW",
        "outputId": "ad039b8a-0042-4106-eaab-464163698fe0"
      },
      "execution_count": 28,
      "outputs": [
        {
          "output_type": "stream",
          "name": "stdout",
          "text": [
            "7\n"
          ]
        }
      ]
    },
    {
      "cell_type": "code",
      "source": [
        "print(nova_lista)"
      ],
      "metadata": {
        "colab": {
          "base_uri": "https://localhost:8080/"
        },
        "id": "rGMVqeWhd9YO",
        "outputId": "c2599eab-53b2-4e23-9913-94923f519814"
      },
      "execution_count": 29,
      "outputs": [
        {
          "output_type": "stream",
          "name": "stdout",
          "text": [
            "{'Jetta Variant', 'Dodge Journey', 'Crossfox', 'Passat'}\n"
          ]
        }
      ]
    },
    {
      "cell_type": "code",
      "source": [
        "len(nova_lista)"
      ],
      "metadata": {
        "colab": {
          "base_uri": "https://localhost:8080/"
        },
        "id": "rXUxHPawWq8x",
        "outputId": "687acbce-3182-4c19-81f3-990c5d79d725"
      },
      "execution_count": 30,
      "outputs": [
        {
          "output_type": "execute_result",
          "data": {
            "text/plain": [
              "4"
            ]
          },
          "metadata": {},
          "execution_count": 30
        }
      ]
    },
    {
      "cell_type": "markdown",
      "source": [
        "## **Operações com Sets**\n"
      ],
      "metadata": {
        "id": "U8Ur2s1KQlgv"
      }
    },
    {
      "cell_type": "markdown",
      "source": [
        "Para esse exercício, vamos precisar criar conjuntos com os **acessórios** de alguns modelos de carros, são eles: **Passat**, **Crossfox** e **Jetta Variant**."
      ],
      "metadata": {
        "id": "Jcko59YgXiT4"
      }
    },
    {
      "cell_type": "code",
      "source": [
        "acessorios_passat = {'Rodas de Liga', 'Travas Elétricas', 'Piloto Automático',\n",
        "                     'Central Multimídia'}\n",
        "print(acessorios_passat)"
      ],
      "metadata": {
        "colab": {
          "base_uri": "https://localhost:8080/"
        },
        "id": "zA95t7-YXoE4",
        "outputId": "2883475c-416d-4ebc-cd20-373b492e501f"
      },
      "execution_count": 31,
      "outputs": [
        {
          "output_type": "stream",
          "name": "stdout",
          "text": [
            "{'Travas Elétricas', 'Rodas de Liga', 'Piloto Automático', 'Central Multimídia'}\n"
          ]
        }
      ]
    },
    {
      "cell_type": "code",
      "source": [
        "acessorios_crossfox = {'Piloto Automático', 'Teto Panorâmico', '4 X 4',\n",
        "                       'Central Multimídia'}\n",
        "print(acessorios_crossfox)"
      ],
      "metadata": {
        "colab": {
          "base_uri": "https://localhost:8080/"
        },
        "id": "lfgMiNEyXoE5",
        "outputId": "e4cce943-b72f-4b04-fa51-7d8358790110"
      },
      "execution_count": 11,
      "outputs": [
        {
          "output_type": "stream",
          "name": "stdout",
          "text": [
            "{'4 X 4', 'Piloto Automático', 'Central Multimídia', 'Teto Panorâmico'}\n"
          ]
        }
      ]
    },
    {
      "cell_type": "code",
      "source": [
        "acessorios_jetta = {'Controle de Estabilidade', 'Câmbio Automático', 'Travas Elétricas',\n",
        "                    'Rodas de Liga'}\n",
        "print(acessorios_jetta)"
      ],
      "metadata": {
        "colab": {
          "base_uri": "https://localhost:8080/"
        },
        "id": "2dsJa9sAXoE5",
        "outputId": "1e54cd4b-bc51-4520-a629-37bb9dab01c6"
      },
      "execution_count": 12,
      "outputs": [
        {
          "output_type": "stream",
          "name": "stdout",
          "text": [
            "{'Controle de Estabilidade', 'Travas Elétricas', 'Rodas de Liga', 'Câmbio Automático'}\n"
          ]
        }
      ]
    },
    {
      "cell_type": "markdown",
      "source": [
        "### **Disjunção**"
      ],
      "metadata": {
        "id": "Pp7URtpTQnXn"
      }
    },
    {
      "cell_type": "markdown",
      "source": [
        "<img src='https://i.imgur.com/o2wsgPo.png' width = 50%>"
      ],
      "metadata": {
        "id": "IRmgINkLWsjs"
      }
    },
    {
      "cell_type": "code",
      "source": [
        "set.isdisjoint(acessorios_passat, acessorios_crossfox)"
      ],
      "metadata": {
        "colab": {
          "base_uri": "https://localhost:8080/"
        },
        "id": "n3GfcrMHW4nu",
        "outputId": "abcc7564-2eec-451f-a3ed-d3dba9f121a7"
      },
      "execution_count": 13,
      "outputs": [
        {
          "output_type": "execute_result",
          "data": {
            "text/plain": [
              "False"
            ]
          },
          "metadata": {},
          "execution_count": 13
        }
      ]
    },
    {
      "cell_type": "markdown",
      "source": [
        "### **Interseção**"
      ],
      "metadata": {
        "id": "0YYUbNDFWpvB"
      }
    },
    {
      "cell_type": "markdown",
      "source": [
        "<img src='https://i.imgur.com/6W7bxU1.png' width = 50%>"
      ],
      "metadata": {
        "id": "0OPz9M8vW-BZ"
      }
    },
    {
      "cell_type": "code",
      "source": [
        "acessorios_passat & acessorios_crossfox"
      ],
      "metadata": {
        "colab": {
          "base_uri": "https://localhost:8080/"
        },
        "id": "7Xg8Tyb3XIbs",
        "outputId": "d7d73459-caaf-4e7c-c486-016ca5a98279"
      },
      "execution_count": 14,
      "outputs": [
        {
          "output_type": "execute_result",
          "data": {
            "text/plain": [
              "{'Central Multimídia', 'Piloto Automático'}"
            ]
          },
          "metadata": {},
          "execution_count": 14
        }
      ]
    },
    {
      "cell_type": "code",
      "source": [
        "acessorios_passat & acessorios_jetta"
      ],
      "metadata": {
        "colab": {
          "base_uri": "https://localhost:8080/"
        },
        "id": "xQ6X-XbsYz_T",
        "outputId": "3c6d5e2e-862b-4b8e-bbbe-4db5411cdf31"
      },
      "execution_count": 15,
      "outputs": [
        {
          "output_type": "execute_result",
          "data": {
            "text/plain": [
              "{'Rodas de Liga', 'Travas Elétricas'}"
            ]
          },
          "metadata": {},
          "execution_count": 15
        }
      ]
    },
    {
      "cell_type": "code",
      "source": [
        "set.intersection(acessorios_passat, acessorios_crossfox, acessorios_jetta)"
      ],
      "metadata": {
        "colab": {
          "base_uri": "https://localhost:8080/"
        },
        "id": "OHa9LqNdY2ht",
        "outputId": "6fa378b4-1fda-4152-c593-60408b3efa59"
      },
      "execution_count": 16,
      "outputs": [
        {
          "output_type": "execute_result",
          "data": {
            "text/plain": [
              "set()"
            ]
          },
          "metadata": {},
          "execution_count": 16
        }
      ]
    },
    {
      "cell_type": "markdown",
      "source": [
        "### **União**"
      ],
      "metadata": {
        "id": "GzUoqpFVZGIu"
      }
    },
    {
      "cell_type": "markdown",
      "source": [
        "<img src='https://i.imgur.com/C3MrKmK.png' width = 50%>"
      ],
      "metadata": {
        "id": "Me_90Pk7ZG9d"
      }
    },
    {
      "cell_type": "code",
      "source": [
        "acessorios_passat | acessorios_crossfox"
      ],
      "metadata": {
        "colab": {
          "base_uri": "https://localhost:8080/"
        },
        "id": "kYo9i7g5WrX_",
        "outputId": "35e7fb71-09d6-4362-f104-a0c819c45b90"
      },
      "execution_count": 17,
      "outputs": [
        {
          "output_type": "execute_result",
          "data": {
            "text/plain": [
              "{'4 X 4',\n",
              " 'Central Multimídia',\n",
              " 'Piloto Automático',\n",
              " 'Rodas de Liga',\n",
              " 'Teto Panorâmico',\n",
              " 'Travas Elétricas'}"
            ]
          },
          "metadata": {},
          "execution_count": 17
        }
      ]
    },
    {
      "cell_type": "code",
      "source": [
        "set.union(acessorios_passat, acessorios_crossfox, acessorios_jetta, {'Teto Solar'})"
      ],
      "metadata": {
        "colab": {
          "base_uri": "https://localhost:8080/"
        },
        "id": "h7RZmv19auKU",
        "outputId": "8532a3d2-dccb-4cf9-8b78-b220ecf78f3c"
      },
      "execution_count": 18,
      "outputs": [
        {
          "output_type": "execute_result",
          "data": {
            "text/plain": [
              "{'4 X 4',\n",
              " 'Central Multimídia',\n",
              " 'Controle de Estabilidade',\n",
              " 'Câmbio Automático',\n",
              " 'Piloto Automático',\n",
              " 'Rodas de Liga',\n",
              " 'Teto Panorâmico',\n",
              " 'Teto Solar',\n",
              " 'Travas Elétricas'}"
            ]
          },
          "metadata": {},
          "execution_count": 18
        }
      ]
    },
    {
      "cell_type": "markdown",
      "source": [
        "## **Perfomance**"
      ],
      "metadata": {
        "id": "wMelozu-ijag"
      }
    },
    {
      "cell_type": "code",
      "source": [
        "carros"
      ],
      "metadata": {
        "colab": {
          "base_uri": "https://localhost:8080/"
        },
        "id": "EhyRdV4CLvVX",
        "outputId": "61ee3417-d1d5-44e6-843d-88e4c5a2dd6b"
      },
      "execution_count": 19,
      "outputs": [
        {
          "output_type": "execute_result",
          "data": {
            "text/plain": [
              "{'Crossfox', 'Dodge Jorney', 'Jetta Variant', 'Passat'}"
            ]
          },
          "metadata": {},
          "execution_count": 19
        }
      ]
    },
    {
      "cell_type": "code",
      "source": [
        "'Crossfox' in carros"
      ],
      "metadata": {
        "colab": {
          "base_uri": "https://localhost:8080/"
        },
        "id": "PnRZ7Dp0Lwrt",
        "outputId": "ab6b7e41-9835-41d7-de65-960a2789430d"
      },
      "execution_count": 20,
      "outputs": [
        {
          "output_type": "execute_result",
          "data": {
            "text/plain": [
              "True"
            ]
          },
          "metadata": {},
          "execution_count": 20
        }
      ]
    },
    {
      "cell_type": "markdown",
      "source": [
        "### **Perfomance com vários elementos**"
      ],
      "metadata": {
        "id": "xLpWitV6L0At"
      }
    },
    {
      "cell_type": "code",
      "source": [
        "elementos_set = set(range(10000))\n",
        "elementos_list = list(range(10000))\n",
        "elementos_tuple = tuple(range(10000))"
      ],
      "metadata": {
        "id": "-OErengzhloO"
      },
      "execution_count": 32,
      "outputs": []
    },
    {
      "cell_type": "code",
      "source": [
        "def verificar_elemento_in(elemento_iteravel):\n",
        "\n",
        "  for i in range(10000):\n",
        "    if i in elemento_iteravel:\n",
        "      pass"
      ],
      "metadata": {
        "id": "r5v0f69hhQpJ"
      },
      "execution_count": 33,
      "outputs": []
    },
    {
      "cell_type": "code",
      "source": [
        "print(\"Tempo de execução set: \")\n",
        "%time verificar_elemento_in(elementos_set)\n",
        "print(\"=\"*30)\n",
        "\n",
        "print(\"Tempo de execução lista: \")\n",
        "%time verificar_elemento_in(elementos_list)\n",
        "print(\"=\"*30)\n",
        "\n",
        "print(\"Tempo de execução tuplas: \")\n",
        "%time verificar_elemento_in(elementos_tuple)\n",
        "print(\"=\"*30)"
      ],
      "metadata": {
        "colab": {
          "base_uri": "https://localhost:8080/"
        },
        "id": "Ny1_EsyZJxea",
        "outputId": "873593c0-8c71-4cc2-b3a1-025189f72e1c"
      },
      "execution_count": 34,
      "outputs": [
        {
          "output_type": "stream",
          "name": "stdout",
          "text": [
            "Tempo de execução set: \n",
            "CPU times: user 1.18 ms, sys: 17 µs, total: 1.19 ms\n",
            "Wall time: 6.16 ms\n",
            "==============================\n",
            "Tempo de execução lista: \n",
            "CPU times: user 584 ms, sys: 0 ns, total: 584 ms\n",
            "Wall time: 600 ms\n",
            "==============================\n",
            "Tempo de execução tuplas: \n",
            "CPU times: user 405 ms, sys: 0 ns, total: 405 ms\n",
            "Wall time: 407 ms\n",
            "==============================\n"
          ]
        }
      ]
    }
  ]
}