{
  "nbformat": 4,
  "nbformat_minor": 0,
  "metadata": {
    "colab": {
      "provenance": [],
      "authorship_tag": "ABX9TyMUd+9Qv+pPFThV8edcCJgS",
      "include_colab_link": true
    },
    "kernelspec": {
      "name": "python3",
      "display_name": "Python 3"
    },
    "language_info": {
      "name": "python"
    }
  },
  "cells": [
    {
      "cell_type": "markdown",
      "metadata": {
        "id": "view-in-github",
        "colab_type": "text"
      },
      "source": [
        "<a href=\"https://colab.research.google.com/github/renatamontanhana/Treinando_python_3/blob/main/treino_1.ipynb\" target=\"_parent\"><img src=\"https://colab.research.google.com/assets/colab-badge.svg\" alt=\"Open In Colab\"/></a>"
      ]
    },
    {
      "cell_type": "code",
      "execution_count": null,
      "metadata": {
        "colab": {
          "base_uri": "https://localhost:8080/"
        },
        "id": "I7SkXR4DEsMO",
        "outputId": "f1d3f511-c911-4b2d-884e-28f4bbe812e6"
      },
      "outputs": [
        {
          "output_type": "stream",
          "name": "stdout",
          "text": [
            "************************\n",
            "Bem vindo ao jogo de adivinhação\n",
            "************************\n"
          ]
        }
      ],
      "source": [
        "print(\"************************\")\n",
        "print(\"Bem vindo ao jogo de adivinhação\")\n",
        "print(\"************************\")"
      ]
    },
    {
      "cell_type": "code",
      "source": [
        "numero_secreto = 42"
      ],
      "metadata": {
        "id": "5l318HMwGpec"
      },
      "execution_count": null,
      "outputs": []
    },
    {
      "cell_type": "code",
      "source": [
        "chute_str = input(\"Digite o seu número: \")\n",
        "print(\"Você digitou \", chute_str)"
      ],
      "metadata": {
        "colab": {
          "base_uri": "https://localhost:8080/"
        },
        "id": "uSdg9ULsGsmi",
        "outputId": "6bd90323-11b6-4221-8466-8cf6787c5771"
      },
      "execution_count": null,
      "outputs": [
        {
          "output_type": "stream",
          "name": "stdout",
          "text": [
            "Digite o seu número: 67\n",
            "Você digitou  67\n"
          ]
        }
      ]
    },
    {
      "cell_type": "code",
      "source": [
        "chute = int(chute_str)"
      ],
      "metadata": {
        "id": "-1vo1e7zRCYY"
      },
      "execution_count": null,
      "outputs": []
    },
    {
      "cell_type": "code",
      "source": [
        "acertou = numero_secreto == chute\n",
        "maior = chute > numero_secreto\n",
        "menor = chute < numero_secreto"
      ],
      "metadata": {
        "id": "81tqgJPH2Q95"
      },
      "execution_count": null,
      "outputs": []
    },
    {
      "cell_type": "code",
      "source": [
        "if(acertou):\n",
        "  print(\"Você acertou!\")\n",
        "else:\n",
        "  if(maior):\n",
        "    print(\"Você acertou!\")\n",
        "  else:\n",
        "    if(maior):\n",
        "     print(\"Você errou! O seu chute foi maior do que o número secreto.\")\n",
        "    elif(menor):\n",
        "        print(\"Você errou! O seu chute foi menor do que o número secreto.\")\n",
        "\n"
      ],
      "metadata": {
        "colab": {
          "base_uri": "https://localhost:8080/"
        },
        "id": "yXbKMBm9OLtp",
        "outputId": "5b55ae92-aedc-4054-ae27-70dec6fce7f8"
      },
      "execution_count": null,
      "outputs": [
        {
          "output_type": "stream",
          "name": "stdout",
          "text": [
            "Você errou! O seu chute foi menor do que o número secreto.\n"
          ]
        }
      ]
    },
    {
      "cell_type": "code",
      "source": [
        "print(\"Fim do jogo\")"
      ],
      "metadata": {
        "colab": {
          "base_uri": "https://localhost:8080/"
        },
        "id": "usRjTs_nPxgw",
        "outputId": "6cbd82af-d6c6-4f51-ac80-4055d2ded123"
      },
      "execution_count": null,
      "outputs": [
        {
          "output_type": "stream",
          "name": "stdout",
          "text": [
            "Fim do jogo\n"
          ]
        }
      ]
    },
    {
      "cell_type": "code",
      "source": [],
      "metadata": {
        "id": "qCN1dCfGymP4"
      },
      "execution_count": null,
      "outputs": []
    },
    {
      "cell_type": "code",
      "source": [
        "minha_idade = 26\n",
        "idade_namorado = 25\n",
        "if(minha_idade == idade_namorado):\n",
        "    print('temos idades iguais')\n",
        "else:\n",
        "    print('temos idades diferentes')"
      ],
      "metadata": {
        "colab": {
          "base_uri": "https://localhost:8080/"
        },
        "id": "lU0veV1pRr6O",
        "outputId": "fbd9c470-0697-4cbd-ca26-500ad63518a9"
      },
      "execution_count": null,
      "outputs": [
        {
          "output_type": "stream",
          "name": "stdout",
          "text": [
            "temos idades diferentes\n"
          ]
        }
      ]
    },
    {
      "cell_type": "code",
      "source": [
        "numero1 = 10\n",
        "numero2 = 10\n",
        "if(numero1 == numero2):\n",
        "    print(\"São números iguais\")"
      ],
      "metadata": {
        "colab": {
          "base_uri": "https://localhost:8080/"
        },
        "id": "f267_K6jSJK4",
        "outputId": "a77d59be-8a9d-41fa-c8b7-03c5da566a27"
      },
      "execution_count": null,
      "outputs": [
        {
          "output_type": "stream",
          "name": "stdout",
          "text": [
            "São números iguais\n"
          ]
        }
      ]
    },
    {
      "cell_type": "code",
      "source": [
        "idade1 = 10\n",
        "idade2 = int(\"20\")\n",
        "print(idade1 + idade2)"
      ],
      "metadata": {
        "colab": {
          "base_uri": "https://localhost:8080/"
        },
        "id": "v3d81JnfSN7R",
        "outputId": "3e7df79f-61f1-473d-fb5d-c044cf7df674"
      },
      "execution_count": null,
      "outputs": [
        {
          "output_type": "stream",
          "name": "stdout",
          "text": [
            "30\n"
          ]
        }
      ]
    },
    {
      "cell_type": "code",
      "source": [
        "nome = \"Nico\"\n",
        "sobrenome = \"Steppat\"\n",
        "print(nome, sobrenome)"
      ],
      "metadata": {
        "colab": {
          "base_uri": "https://localhost:8080/"
        },
        "id": "8ZxPWT1hTVP2",
        "outputId": "612ce70f-68b2-43a0-f053-6d8eb24f6d19"
      },
      "execution_count": null,
      "outputs": [
        {
          "output_type": "stream",
          "name": "stdout",
          "text": [
            "Nico Steppat\n"
          ]
        }
      ]
    },
    {
      "cell_type": "code",
      "source": [
        "nome = \"Nico\"\n",
        "sobrenome = \"Steppat\"\n",
        "print(nome, sobrenome, sep=\"_\")"
      ],
      "metadata": {
        "colab": {
          "base_uri": "https://localhost:8080/"
        },
        "id": "aKMMoo9ZThVw",
        "outputId": "5b86fab7-5b51-4cc5-c5d8-bfe9a5793685"
      },
      "execution_count": null,
      "outputs": [
        {
          "output_type": "stream",
          "name": "stdout",
          "text": [
            "Nico_Steppat\n"
          ]
        }
      ]
    },
    {
      "cell_type": "code",
      "source": [
        "idade_str = input(\"Digite sua idade: \")\n",
        "idade = int(idade_str)\n",
        "\n",
        "if (idade > 18):\n",
        "    print(\"Você é maior de idade.\")\n",
        "else:\n",
        "    if (idade < 12):\n",
        "        print(\"Você é uma criança.\")\n",
        "    elif (idade > 12):\n",
        "        print(\"Você é um adolescente.\")"
      ],
      "metadata": {
        "colab": {
          "base_uri": "https://localhost:8080/"
        },
        "id": "ZyNiGjqAyeyn",
        "outputId": "baf1d6d7-a066-481e-d47b-e9f554379e85"
      },
      "execution_count": null,
      "outputs": [
        {
          "name": "stdout",
          "output_type": "stream",
          "text": [
            "Digite sua idade: 12\n"
          ]
        }
      ]
    },
    {
      "cell_type": "code",
      "source": [
        "idade_str = input(\"Digite sua idade: \")\n",
        "idade = int(idade_str)\n",
        "\n",
        "maior_idade = idade > 18\n",
        "crianca     = idade < 12\n",
        "adolescente = idade > 12"
      ],
      "metadata": {
        "colab": {
          "base_uri": "https://localhost:8080/"
        },
        "id": "5RcvyezzJ0SQ",
        "outputId": "d86a1939-32fd-485e-93c3-4596023aa108"
      },
      "execution_count": null,
      "outputs": [
        {
          "name": "stdout",
          "output_type": "stream",
          "text": [
            "Digite sua idade: 15\n"
          ]
        }
      ]
    },
    {
      "cell_type": "code",
      "source": [
        "usuario = input(\"Informe o usuário do sistema!\")\n",
        "\n",
        "if(usuario == \"Flávio\"):\n",
        "    print(\"Seja bem-vindo Flávio!\")\n",
        "elif(usuario == \"Douglas\"):\n",
        "    print(\"Seja bem-vindo Douglas!\")\n",
        "elif(usuario == \"Nico\"):\n",
        "    print(\"Seja bem-vindo Nico\")\n",
        "else:\n",
        "    print(\"Usuário não identificado!\")"
      ],
      "metadata": {
        "colab": {
          "base_uri": "https://localhost:8080/"
        },
        "id": "g0Q5gxSyYdyW",
        "outputId": "6a56bef6-7037-43eb-d86d-731a2ba46a3b"
      },
      "execution_count": null,
      "outputs": [
        {
          "output_type": "stream",
          "name": "stdout",
          "text": [
            "Informe o usuário do sistema!Nico\n",
            "Seja bem-vindo Nico\n"
          ]
        }
      ]
    }
  ]
}