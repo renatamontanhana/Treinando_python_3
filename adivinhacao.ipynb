{
  "nbformat": 4,
  "nbformat_minor": 0,
  "metadata": {
    "colab": {
      "provenance": [],
      "authorship_tag": "ABX9TyM3PuaAj1x1fUxDLwfut9ts",
      "include_colab_link": true
    },
    "kernelspec": {
      "name": "python3",
      "display_name": "Python 3"
    },
    "language_info": {
      "name": "python"
    }
  },
  "cells": [
    {
      "cell_type": "markdown",
      "metadata": {
        "id": "view-in-github",
        "colab_type": "text"
      },
      "source": [
        "<a href=\"https://colab.research.google.com/github/renatamontanhana/Treinando_python_3/blob/main/adivinhacao.ipynb\" target=\"_parent\"><img src=\"https://colab.research.google.com/assets/colab-badge.svg\" alt=\"Open In Colab\"/></a>"
      ]
    },
    {
      "cell_type": "code",
      "execution_count": 1,
      "metadata": {
        "colab": {
          "base_uri": "https://localhost:8080/"
        },
        "id": "I7SkXR4DEsMO",
        "outputId": "f1d3f511-c911-4b2d-884e-28f4bbe812e6"
      },
      "outputs": [
        {
          "output_type": "stream",
          "name": "stdout",
          "text": [
            "************************\n",
            "Bem vindo ao jogo de adivinhação\n",
            "************************\n"
          ]
        }
      ],
      "source": [
        "print(\"************************\")\n",
        "print(\"Bem vindo ao jogo de adivinhação\")\n",
        "print(\"************************\")"
      ]
    },
    {
      "cell_type": "code",
      "source": [
        "numero_secreto = 42"
      ],
      "metadata": {
        "id": "5l318HMwGpec"
      },
      "execution_count": 4,
      "outputs": []
    },
    {
      "cell_type": "code",
      "source": [
        "chute_str = input(\"Digite o seu número: \")\n",
        "print(\"Você digitou \", chute_str)"
      ],
      "metadata": {
        "colab": {
          "base_uri": "https://localhost:8080/"
        },
        "id": "uSdg9ULsGsmi",
        "outputId": "c07bc6d4-e2f0-4bba-eb02-4c929990d6a2"
      },
      "execution_count": 10,
      "outputs": [
        {
          "output_type": "stream",
          "name": "stdout",
          "text": [
            "Digite o seu número: 42\n",
            "Você digitou  42\n"
          ]
        }
      ]
    },
    {
      "cell_type": "code",
      "source": [
        "chute = int(chute_str)"
      ],
      "metadata": {
        "id": "-1vo1e7zRCYY"
      },
      "execution_count": 11,
      "outputs": []
    },
    {
      "cell_type": "code",
      "source": [
        "if (numero_secreto == chute):\n",
        "  print(\"Você acertou!\")\n",
        "else:\n",
        "  print(\"Você errou\")\n"
      ],
      "metadata": {
        "colab": {
          "base_uri": "https://localhost:8080/"
        },
        "id": "yXbKMBm9OLtp",
        "outputId": "7181e911-8351-44d1-8bae-1d5d46ddbbbe"
      },
      "execution_count": 12,
      "outputs": [
        {
          "output_type": "stream",
          "name": "stdout",
          "text": [
            "Você acertou!\n"
          ]
        }
      ]
    },
    {
      "cell_type": "code",
      "source": [],
      "metadata": {
        "id": "usRjTs_nPxgw"
      },
      "execution_count": null,
      "outputs": []
    }
  ]
}