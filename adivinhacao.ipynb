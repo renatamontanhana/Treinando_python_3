{
  "nbformat": 4,
  "nbformat_minor": 0,
  "metadata": {
    "colab": {
      "provenance": [],
      "authorship_tag": "ABX9TyNwgk75nyqimZ3mG9bFnvtr",
      "include_colab_link": true
    },
    "kernelspec": {
      "name": "python3",
      "display_name": "Python 3"
    },
    "language_info": {
      "name": "python"
    }
  },
  "cells": [
    {
      "cell_type": "markdown",
      "metadata": {
        "id": "view-in-github",
        "colab_type": "text"
      },
      "source": [
        "<a href=\"https://colab.research.google.com/github/renatamontanhana/Treinando_python_3/blob/main/adivinhacao.ipynb\" target=\"_parent\"><img src=\"https://colab.research.google.com/assets/colab-badge.svg\" alt=\"Open In Colab\"/></a>"
      ]
    },
    {
      "cell_type": "code",
      "execution_count": 1,
      "metadata": {
        "colab": {
          "base_uri": "https://localhost:8080/"
        },
        "id": "Fg_77v7WIp3a",
        "outputId": "5a587dbd-d9ff-446a-a6fd-70ed66b5ffb6"
      },
      "outputs": [
        {
          "output_type": "stream",
          "name": "stdout",
          "text": [
            "************************\n",
            "Bem vindo ao jogo de adivinhação\n",
            "************************\n"
          ]
        }
      ],
      "source": [
        "print(\"************************\")\n",
        "print(\"Bem vindo ao jogo de adivinhação\")\n",
        "print(\"************************\")"
      ]
    },
    {
      "cell_type": "code",
      "source": [
        "numero_secreto = 42"
      ],
      "metadata": {
        "id": "OTNWUNlnI6lN"
      },
      "execution_count": 12,
      "outputs": []
    },
    {
      "cell_type": "code",
      "source": [
        "chute_str = input(\"Digite o seu número: \")\n",
        "print(\"Você digitou \", chute_str)"
      ],
      "metadata": {
        "colab": {
          "base_uri": "https://localhost:8080/"
        },
        "id": "PG9PNnFNI7g_",
        "outputId": "be16caac-b7cf-41be-e2a3-5873d4740e51"
      },
      "execution_count": 13,
      "outputs": [
        {
          "output_type": "stream",
          "name": "stdout",
          "text": [
            "Digite o seu número: 45\n",
            "Você digitou  45\n"
          ]
        }
      ]
    },
    {
      "cell_type": "code",
      "source": [
        "chute = int(chute_str)"
      ],
      "metadata": {
        "id": "5kNp0zMhJGSx"
      },
      "execution_count": 14,
      "outputs": []
    },
    {
      "cell_type": "code",
      "source": [
        "acertou = numero_secreto == chute\n",
        "maior = chute > numero_secreto\n",
        "menor = chute < numero_secreto"
      ],
      "metadata": {
        "id": "gRtsBcVyJHDV"
      },
      "execution_count": 15,
      "outputs": []
    },
    {
      "cell_type": "code",
      "source": [
        "print(\"*********************************\")\n",
        "print(\"Bem vindo ao jogo de Adivinhação!\")\n",
        "print(\"*********************************\")\n",
        "\n",
        "numero_secreto = 42\n",
        "total_de_tentativas = 3\n",
        "rodada = 1\n",
        "\n",
        "while (rodada <= total_de_tentativas):\n",
        "    print(\"Tentativa\", rodada, \"de\", total_de_tentativas)\n",
        "    chute_str = input(\"Digite o seu número: \")\n",
        "    print(\"Você digitou \" , chute_str)\n",
        "    chute = int(chute_str)\n",
        "\n",
        "    acertou = chute == numero_secreto\n",
        "    maior = chute > numero_secreto\n",
        "    menor = chute < numero_secreto\n",
        "\n",
        "    if(acertou):\n",
        "        print(\"Parabéns! Você acertou!\")\n",
        "    else:\n",
        "        if(maior):\n",
        "            print(\"O seu chute foi maior do que o número secreto!\")\n",
        "        elif(menor):\n",
        "            print(\"O seu chute foi menor do que o número secreto!\")\n",
        "\n",
        "            rodada = rodada + 1\n",
        "\n",
        "print(\"Fim do jogo\")"
      ],
      "metadata": {
        "colab": {
          "base_uri": "https://localhost:8080/"
        },
        "id": "4BMv5xqRJJ2l",
        "outputId": "588a50b2-3349-4027-8f77-0a28447777c5"
      },
      "execution_count": 8,
      "outputs": [
        {
          "output_type": "stream",
          "name": "stdout",
          "text": [
            "*********************************\n",
            "Bem vindo ao jogo de Adivinhação!\n",
            "*********************************\n",
            "Tentativa 1 de 3\n",
            "Digite o seu número: 20\n",
            "Você digitou  20\n",
            "O seu chute foi menor do que o número secreto!\n",
            "Tentativa 2 de 3\n",
            "Digite o seu número: 50\n",
            "Você digitou  50\n",
            "O seu chute foi maior do que o número secreto!\n",
            "Tentativa 2 de 3\n",
            "Digite o seu número: 40\n",
            "Você digitou  40\n",
            "O seu chute foi menor do que o número secreto!\n",
            "Tentativa 3 de 3\n",
            "Digite o seu número: 34\n",
            "Você digitou  34\n",
            "O seu chute foi menor do que o número secreto!\n",
            "Fim do jogo\n"
          ]
        }
      ]
    },
    {
      "cell_type": "code",
      "source": [],
      "metadata": {
        "id": "caaEQhexJMo1"
      },
      "execution_count": null,
      "outputs": []
    }
  ]
}