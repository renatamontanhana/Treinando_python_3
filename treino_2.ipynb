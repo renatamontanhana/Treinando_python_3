{
  "nbformat": 4,
  "nbformat_minor": 0,
  "metadata": {
    "colab": {
      "provenance": [],
      "authorship_tag": "ABX9TyOW8e9UEQ9MIj2Xt/+P/Cn9",
      "include_colab_link": true
    },
    "kernelspec": {
      "name": "python3",
      "display_name": "Python 3"
    },
    "language_info": {
      "name": "python"
    }
  },
  "cells": [
    {
      "cell_type": "markdown",
      "metadata": {
        "id": "view-in-github",
        "colab_type": "text"
      },
      "source": [
        "<a href=\"https://colab.research.google.com/github/renatamontanhana/Treinando_python_3/blob/main/treino_2.ipynb\" target=\"_parent\"><img src=\"https://colab.research.google.com/assets/colab-badge.svg\" alt=\"Open In Colab\"/></a>"
      ]
    },
    {
      "cell_type": "code",
      "execution_count": 1,
      "metadata": {
        "colab": {
          "base_uri": "https://localhost:8080/"
        },
        "id": "bDSs1yKHuf4v",
        "outputId": "0c185f92-a315-4629-a9b6-47ba303ba90e"
      },
      "outputs": [
        {
          "output_type": "stream",
          "name": "stdout",
          "text": [
            "Michel\n"
          ]
        }
      ],
      "source": [
        "nome = \"Michel\"\n",
        "print(nome)"
      ]
    },
    {
      "cell_type": "code",
      "source": [
        "nome = \"Renata\"\n",
        "nome"
      ],
      "metadata": {
        "colab": {
          "base_uri": "https://localhost:8080/",
          "height": 35
        },
        "id": "Lp8Q0bc1u--9",
        "outputId": "3abc57d0-7fcf-463e-fe57-adb6bc313193"
      },
      "execution_count": 2,
      "outputs": [
        {
          "output_type": "execute_result",
          "data": {
            "text/plain": [
              "'Renata'"
            ],
            "application/vnd.google.colaboratory.intrinsic+json": {
              "type": "string"
            }
          },
          "metadata": {},
          "execution_count": 2
        }
      ]
    },
    {
      "cell_type": "code",
      "source": [
        "idade = 45\n",
        "idade"
      ],
      "metadata": {
        "colab": {
          "base_uri": "https://localhost:8080/"
        },
        "id": "DFzPiMBCvl-G",
        "outputId": "2e3733be-32e8-4d0d-9bdd-d03b538fecb1"
      },
      "execution_count": 3,
      "outputs": [
        {
          "output_type": "execute_result",
          "data": {
            "text/plain": [
              "45"
            ]
          },
          "metadata": {},
          "execution_count": 3
        }
      ]
    },
    {
      "cell_type": "code",
      "source": [
        "idade + 3"
      ],
      "metadata": {
        "colab": {
          "base_uri": "https://localhost:8080/"
        },
        "id": "QUXBaPVIvtKD",
        "outputId": "31989853-4a17-41fa-930b-4b70e1782885"
      },
      "execution_count": 4,
      "outputs": [
        {
          "output_type": "execute_result",
          "data": {
            "text/plain": [
              "48"
            ]
          },
          "metadata": {},
          "execution_count": 4
        }
      ]
    },
    {
      "cell_type": "code",
      "source": [
        "idade = idade + 3\n",
        "idade"
      ],
      "metadata": {
        "colab": {
          "base_uri": "https://localhost:8080/"
        },
        "id": "vH1AbXclvwr6",
        "outputId": "d0b890bf-bb0c-4058-8353-389301742554"
      },
      "execution_count": 6,
      "outputs": [
        {
          "output_type": "execute_result",
          "data": {
            "text/plain": [
              "48"
            ]
          },
          "metadata": {},
          "execution_count": 6
        }
      ]
    },
    {
      "cell_type": "code",
      "source": [
        "idade"
      ],
      "metadata": {
        "colab": {
          "base_uri": "https://localhost:8080/"
        },
        "id": "_4qkS_9Gv3-e",
        "outputId": "86509d2e-7c42-4847-9bac-6d7767e5ea21"
      },
      "execution_count": 7,
      "outputs": [
        {
          "output_type": "execute_result",
          "data": {
            "text/plain": [
              "48"
            ]
          },
          "metadata": {},
          "execution_count": 7
        }
      ]
    },
    {
      "cell_type": "code",
      "source": [
        "def mais_um_ano (idade):\n",
        "  print(\"ta dentro dessa função\")\n",
        "  return idade +1"
      ],
      "metadata": {
        "id": "d4srCXNMwGgH"
      },
      "execution_count": 8,
      "outputs": []
    },
    {
      "cell_type": "code",
      "source": [
        "mais_um_ano(41)"
      ],
      "metadata": {
        "colab": {
          "base_uri": "https://localhost:8080/"
        },
        "id": "oSA2JpDMwxL4",
        "outputId": "dfe83cd4-3baa-4aef-afb6-24c0798d776a"
      },
      "execution_count": 9,
      "outputs": [
        {
          "output_type": "stream",
          "name": "stdout",
          "text": [
            "ta dentro dessa função\n"
          ]
        },
        {
          "output_type": "execute_result",
          "data": {
            "text/plain": [
              "42"
            ]
          },
          "metadata": {},
          "execution_count": 9
        }
      ]
    },
    {
      "cell_type": "code",
      "source": [
        "filme1 = \"Matrix\"\n",
        "filme2 = \"Os Intocáveis\"\n",
        "filme3 = \"Toy Story\""
      ],
      "metadata": {
        "id": "p7S05gjhw2dP"
      },
      "execution_count": 10,
      "outputs": []
    },
    {
      "cell_type": "code",
      "source": [
        "filmes = [\"Toy Story, Matrix, Os intocáveis\"]\n",
        "filmes"
      ],
      "metadata": {
        "colab": {
          "base_uri": "https://localhost:8080/"
        },
        "id": "tjYw9vFp2xym",
        "outputId": "c23eea8e-a380-4c8a-d823-195668d594a8"
      },
      "execution_count": 11,
      "outputs": [
        {
          "output_type": "execute_result",
          "data": {
            "text/plain": [
              "['Toy Story, Matrix, Os intocáveis']"
            ]
          },
          "metadata": {},
          "execution_count": 11
        }
      ]
    },
    {
      "cell_type": "code",
      "source": [
        "filmes = [filme1, filme2, filme3]\n",
        "filmes"
      ],
      "metadata": {
        "colab": {
          "base_uri": "https://localhost:8080/"
        },
        "id": "N3QsFbs027wb",
        "outputId": "c2c73474-1050-423d-a76d-60ccf540907b"
      },
      "execution_count": 12,
      "outputs": [
        {
          "output_type": "execute_result",
          "data": {
            "text/plain": [
              "['Matrix', 'Os Intocáveis', 'Toy Story']"
            ]
          },
          "metadata": {},
          "execution_count": 12
        }
      ]
    },
    {
      "cell_type": "code",
      "source": [
        "def imprime_filmes(filmes_que_quero_print):\n",
        "  print(\"A lista de filmes que eu tenho disponível\")\n",
        "  print(filmes_que_quero_print)"
      ],
      "metadata": {
        "id": "4VdaaBxx3E6M"
      },
      "execution_count": 15,
      "outputs": []
    },
    {
      "cell_type": "code",
      "source": [
        "imprime_filmes(filmes)"
      ],
      "metadata": {
        "colab": {
          "base_uri": "https://localhost:8080/"
        },
        "id": "PaZEaj2W3rb8",
        "outputId": "fefe5064-059e-48fc-8ce1-2545c758c428"
      },
      "execution_count": 17,
      "outputs": [
        {
          "output_type": "stream",
          "name": "stdout",
          "text": [
            "A lista de filmes que eu tenho disponível\n",
            "['Matrix', 'Os Intocáveis', 'Toy Story']\n"
          ]
        }
      ]
    },
    {
      "cell_type": "code",
      "source": [
        "filmes[0]"
      ],
      "metadata": {
        "colab": {
          "base_uri": "https://localhost:8080/",
          "height": 35
        },
        "id": "PdayKESi36Vo",
        "outputId": "7e50eda6-8876-4976-f806-d3c05589a4d9"
      },
      "execution_count": 18,
      "outputs": [
        {
          "output_type": "execute_result",
          "data": {
            "text/plain": [
              "'Matrix'"
            ],
            "application/vnd.google.colaboratory.intrinsic+json": {
              "type": "string"
            }
          },
          "metadata": {},
          "execution_count": 18
        }
      ]
    },
    {
      "cell_type": "code",
      "source": [
        "filmes[-1]"
      ],
      "metadata": {
        "colab": {
          "base_uri": "https://localhost:8080/",
          "height": 35
        },
        "id": "CKziCW7D4NXn",
        "outputId": "6d18c08e-6e93-4808-f5d7-81a1ab5311b4"
      },
      "execution_count": 20,
      "outputs": [
        {
          "output_type": "execute_result",
          "data": {
            "text/plain": [
              "'Toy Story'"
            ],
            "application/vnd.google.colaboratory.intrinsic+json": {
              "type": "string"
            }
          },
          "metadata": {},
          "execution_count": 20
        }
      ]
    },
    {
      "cell_type": "code",
      "source": [
        "filmes[1:]"
      ],
      "metadata": {
        "colab": {
          "base_uri": "https://localhost:8080/"
        },
        "id": "Pmqo2Nqp4lfU",
        "outputId": "ed4a10ee-e1ae-437c-bd37-da9502bb8387"
      },
      "execution_count": 21,
      "outputs": [
        {
          "output_type": "execute_result",
          "data": {
            "text/plain": [
              "['Os Intocáveis', 'Toy Story']"
            ]
          },
          "metadata": {},
          "execution_count": 21
        }
      ]
    },
    {
      "cell_type": "code",
      "source": [
        "filmes[-2:]"
      ],
      "metadata": {
        "colab": {
          "base_uri": "https://localhost:8080/"
        },
        "id": "qU2yDFY84slj",
        "outputId": "27854d86-c107-47d4-aac1-21b2e2bd1841"
      },
      "execution_count": 22,
      "outputs": [
        {
          "output_type": "execute_result",
          "data": {
            "text/plain": [
              "['Os Intocáveis', 'Toy Story']"
            ]
          },
          "metadata": {},
          "execution_count": 22
        }
      ]
    },
    {
      "cell_type": "code",
      "source": [
        "for filme in filmes:\n",
        "  print(filme)\n",
        "  print(\"...\")\n",
        "print(\"Estou Fora\")"
      ],
      "metadata": {
        "colab": {
          "base_uri": "https://localhost:8080/"
        },
        "id": "WvhiIsGv4wlB",
        "outputId": "f98e0e8f-4ca1-4c90-8223-0b240b4ac3d7"
      },
      "execution_count": 24,
      "outputs": [
        {
          "output_type": "stream",
          "name": "stdout",
          "text": [
            "Matrix\n",
            "...\n",
            "Os Intocáveis\n",
            "...\n",
            "Toy Story\n",
            "...\n",
            "Estou Fora\n"
          ]
        }
      ]
    },
    {
      "cell_type": "code",
      "source": [
        "def imprime_filmes(filmes_que_quero_print):\n",
        "  print(\"A lista de filmes que eu tenho disponível\")\n",
        "  for filme in filmes_que_quero_print:\n",
        "    print(filme)"
      ],
      "metadata": {
        "id": "9k_aFWw25P81"
      },
      "execution_count": 25,
      "outputs": []
    },
    {
      "cell_type": "code",
      "source": [
        "imprime_filmes(filmes)"
      ],
      "metadata": {
        "colab": {
          "base_uri": "https://localhost:8080/"
        },
        "id": "ph7rJ6QD50g_",
        "outputId": "b8edc7ae-b737-4913-dad0-802e5bcb87bd"
      },
      "execution_count": 26,
      "outputs": [
        {
          "output_type": "stream",
          "name": "stdout",
          "text": [
            "A lista de filmes que eu tenho disponível\n",
            "Matrix\n",
            "Os Intocáveis\n",
            "Toy Story\n"
          ]
        }
      ]
    },
    {
      "cell_type": "code",
      "source": [],
      "metadata": {
        "id": "VgnIjqAX5458"
      },
      "execution_count": null,
      "outputs": []
    }
  ]
}